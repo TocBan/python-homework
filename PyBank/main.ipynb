{
 "cells": [
  {
   "cell_type": "code",
   "execution_count": 1,
   "id": "f084a9a1-d9ec-48ed-baee-949ea6721072",
   "metadata": {},
   "outputs": [],
   "source": [
    "import pandas as pd\n",
    "from pathlib import Path"
   ]
  },
  {
   "cell_type": "code",
   "execution_count": 2,
   "id": "a6d36b5b-e4f4-4ec1-ad6f-0be633013cff",
   "metadata": {},
   "outputs": [],
   "source": [
    "# Set data files' paths\n",
    "budget_data = Path(\"Resources/budget_data.csv\")\n",
    "budget_data = pd.read_csv(budget_data, index_col=\"Date\")"
   ]
  },
  {
   "cell_type": "code",
   "execution_count": 3,
   "id": "263cd9d2-0db1-4cbf-9bae-28cca82c64c9",
   "metadata": {},
   "outputs": [
    {
     "data": {
      "text/html": [
       "<div>\n",
       "<style scoped>\n",
       "    .dataframe tbody tr th:only-of-type {\n",
       "        vertical-align: middle;\n",
       "    }\n",
       "\n",
       "    .dataframe tbody tr th {\n",
       "        vertical-align: top;\n",
       "    }\n",
       "\n",
       "    .dataframe thead th {\n",
       "        text-align: right;\n",
       "    }\n",
       "</style>\n",
       "<table border=\"1\" class=\"dataframe\">\n",
       "  <thead>\n",
       "    <tr style=\"text-align: right;\">\n",
       "      <th></th>\n",
       "      <th>Profit/Losses</th>\n",
       "    </tr>\n",
       "    <tr>\n",
       "      <th>Date</th>\n",
       "      <th></th>\n",
       "    </tr>\n",
       "  </thead>\n",
       "  <tbody>\n",
       "    <tr>\n",
       "      <th>Jan-2010</th>\n",
       "      <td>False</td>\n",
       "    </tr>\n",
       "    <tr>\n",
       "      <th>Feb-2010</th>\n",
       "      <td>False</td>\n",
       "    </tr>\n",
       "    <tr>\n",
       "      <th>Mar-2010</th>\n",
       "      <td>False</td>\n",
       "    </tr>\n",
       "    <tr>\n",
       "      <th>Apr-2010</th>\n",
       "      <td>False</td>\n",
       "    </tr>\n",
       "    <tr>\n",
       "      <th>May-2010</th>\n",
       "      <td>False</td>\n",
       "    </tr>\n",
       "    <tr>\n",
       "      <th>...</th>\n",
       "      <td>...</td>\n",
       "    </tr>\n",
       "    <tr>\n",
       "      <th>Oct-2016</th>\n",
       "      <td>False</td>\n",
       "    </tr>\n",
       "    <tr>\n",
       "      <th>Nov-2016</th>\n",
       "      <td>False</td>\n",
       "    </tr>\n",
       "    <tr>\n",
       "      <th>Dec-2016</th>\n",
       "      <td>False</td>\n",
       "    </tr>\n",
       "    <tr>\n",
       "      <th>Jan-2017</th>\n",
       "      <td>False</td>\n",
       "    </tr>\n",
       "    <tr>\n",
       "      <th>Feb-2017</th>\n",
       "      <td>False</td>\n",
       "    </tr>\n",
       "  </tbody>\n",
       "</table>\n",
       "<p>86 rows × 1 columns</p>\n",
       "</div>"
      ],
      "text/plain": [
       "          Profit/Losses\n",
       "Date                   \n",
       "Jan-2010          False\n",
       "Feb-2010          False\n",
       "Mar-2010          False\n",
       "Apr-2010          False\n",
       "May-2010          False\n",
       "...                 ...\n",
       "Oct-2016          False\n",
       "Nov-2016          False\n",
       "Dec-2016          False\n",
       "Jan-2017          False\n",
       "Feb-2017          False\n",
       "\n",
       "[86 rows x 1 columns]"
      ]
     },
     "execution_count": 3,
     "metadata": {},
     "output_type": "execute_result"
    }
   ],
   "source": [
    "budget_data.isnull()"
   ]
  },
  {
   "cell_type": "code",
   "execution_count": 4,
   "id": "484a6739-2557-47f9-8b46-d9498c7e7d7e",
   "metadata": {},
   "outputs": [],
   "source": [
    "# creating dataframe\n",
    "bd = pd.DataFrame(budget_data, index=None)\n",
    " \n",
    "# computing number of Months\n",
    "months = len(bd.axes[0])\n",
    "\n",
    "# getting net total of Profit/losses over entire period\n",
    "total = sum(bd['Profit/Losses'])"
   ]
  },
  {
   "cell_type": "code",
   "execution_count": 5,
   "id": "ffddf4ab-4b9d-4272-a157-51d646697d20",
   "metadata": {},
   "outputs": [],
   "source": [
    "# average of the changes in Profit/Losses over the entire period\n",
    "# Initialize the metric variables\n",
    "count = 0\n",
    "total = 0\n",
    "average = 0\n",
    "minimum = 0\n",
    "maximum = 0\n",
    "\n",
    "# Initialize lists to hold profitable and unprofitable day profits/losses\n",
    "profitable_months = []\n",
    "unprofitable_months = []\n",
    "\n",
    "# List of trading profits/losses\n",
    "budget_pnl = bd.loc[:,\"Profit/Losses\"]\n"
   ]
  },
  {
   "cell_type": "code",
   "execution_count": 6,
   "id": "d19fad7f-2f24-4cb6-9cd0-82ed3b11c895",
   "metadata": {},
   "outputs": [],
   "source": [
    "# Iterate over each element of the list\n",
    "for month_pnl in budget_pnl:\n",
    "    \n",
    "    # Cumulatively sum up the total profits/losses and count of trading months\n",
    "    total += month_pnl\n",
    "    count += 1\n",
    "\n",
    "    # Logic to determine minimum and maximum values\n",
    "    if minimum == 0:\n",
    "        minimum = month_pnl\n",
    "    elif month_pnl < minimum:\n",
    "        minimum = month_pnl\n",
    "    elif month_pnl > maximum:\n",
    "        maximum = month_pnl\n",
    "\n",
    "    # Logic to determine profitable vs. unprofitable days\n",
    "    if month_pnl > 0:\n",
    "        profitable_months.append(month_pnl)\n",
    "    elif month_pnl <= 0:\n",
    "        unprofitable_months.append(month_pnl)\n",
    "\n",
    "# Calculate the average\n",
    "average = round(total / count)\n",
    "\n",
    "# Count metrics\n",
    "profitable_count = len(profitable_months)\n",
    "unprofitable_count = len(unprofitable_months)"
   ]
  },
  {
   "cell_type": "code",
   "execution_count": 7,
   "id": "37d05941-8fe0-447d-8626-f4f5c1ef656d",
   "metadata": {},
   "outputs": [
    {
     "name": "stdout",
     "output_type": "stream",
     "text": [
      "```text \n",
      "Financial_Analysis\n",
      "-------------------------------------\n",
      "Total Months: $ 86\n",
      "Total: $ 38382578\n",
      "Average change: $ 446309\n",
      "Greatest Increase in Profits: ($1170593)\n",
      "Greatest Decrease in Profits: ($-1196225)\n",
      "```\n"
     ]
    }
   ],
   "source": [
    "print(\"```text \\nFinancial_Analysis\\n-------------------------------------\")\n",
    "print(\"Total Months: $\", months)\n",
    "print(\"Total: $\", total)\n",
    "print(\"Average change: $\", average)\n",
    "print(f\"Greatest Increase in Profits: (${maximum})\")\n",
    "print(f\"Greatest Decrease in Profits: (${minimum})\")\n",
    "print(\"```\")"
   ]
  },
  {
   "cell_type": "code",
   "execution_count": 8,
   "id": "c26a4ea3-e37c-4811-a6f7-b73cf96555c8",
   "metadata": {},
   "outputs": [
    {
     "name": "stdout",
     "output_type": "stream",
     "text": [
      "Current Working Directory: C:\\Users\\n810l\\Desktop\\python-homework\\PyBank\n"
     ]
    }
   ],
   "source": [
    "print(f\"Current Working Directory: {Path.cwd()}\")"
   ]
  },
  {
   "cell_type": "code",
   "execution_count": 9,
   "id": "1d58d35b-5c3a-47f6-94d5-c638d82da1ce",
   "metadata": {},
   "outputs": [],
   "source": [
    "# Set the output file path\n",
    "output_path = Path(\"output.txt\")"
   ]
  },
  {
   "cell_type": "code",
   "execution_count": 14,
   "id": "6d171662-6948-4078-891e-9dbe3994ce1d",
   "metadata": {},
   "outputs": [
    {
     "name": "stdout",
     "output_type": "stream",
     "text": [
      "```text \n",
      "Financial_Analysis\n",
      "-------------------------------------\n",
      "Total Months: $ 86\n",
      "Total: $ 38382578\n",
      "Average change: $ 446309\n",
      "Greatest Increase in Profits: ($1170593)\n",
      "Greatest Decrease in Profits: ($-1196225)\n",
      "```\n"
     ]
    },
    {
     "ename": "TypeError",
     "evalue": "TextIOWrapper.write() takes exactly one argument (0 given)",
     "output_type": "error",
     "traceback": [
      "\u001b[1;31m---------------------------------------------------------------------------\u001b[0m",
      "\u001b[1;31mTypeError\u001b[0m                                 Traceback (most recent call last)",
      "Input \u001b[1;32mIn [14]\u001b[0m, in \u001b[0;36m<cell line: 9>\u001b[1;34m()\u001b[0m\n\u001b[0;32m      7\u001b[0m \u001b[38;5;28mprint\u001b[39m(\u001b[38;5;124mf\u001b[39m\u001b[38;5;124m\"\u001b[39m\u001b[38;5;124mGreatest Decrease in Profits: ($\u001b[39m\u001b[38;5;132;01m{\u001b[39;00mminimum\u001b[38;5;132;01m}\u001b[39;00m\u001b[38;5;124m)\u001b[39m\u001b[38;5;124m\"\u001b[39m)\n\u001b[0;32m      8\u001b[0m \u001b[38;5;28mprint\u001b[39m(\u001b[38;5;124m\"\u001b[39m\u001b[38;5;124m```\u001b[39m\u001b[38;5;124m\"\u001b[39m)\n\u001b[1;32m----> 9\u001b[0m \u001b[38;5;28mprint\u001b[39m(\u001b[43mfile\u001b[49m\u001b[38;5;241;43m.\u001b[39;49m\u001b[43mwrite\u001b[49m\u001b[43m(\u001b[49m\u001b[43m)\u001b[49m)\n\u001b[0;32m     10\u001b[0m \u001b[38;5;28mprint\u001b[39m()\n",
      "\u001b[1;31mTypeError\u001b[0m: TextIOWrapper.write() takes exactly one argument (0 given)"
     ]
    }
   ],
   "source": [
    "file = open(\"output.txt\",\"w\") \n",
    "print(\"```text \\nFinancial_Analysis\\n-------------------------------------\")\n",
    "print(\"Total Months: $\", months)\n",
    "print(\"Total: $\", total)\n",
    "print(\"Average change: $\", average)\n",
    "print(f\"Greatest Increase in Profits: (${maximum})\")\n",
    "print(f\"Greatest Decrease in Profits: (${minimum})\")\n",
    "print(\"```\")\n",
    "print(file.write())\n",
    "print()"
   ]
  },
  {
   "cell_type": "code",
   "execution_count": null,
   "id": "c671e3aa-7dc2-4830-b1a2-0a8d88abf4f0",
   "metadata": {},
   "outputs": [],
   "source": []
  }
 ],
 "metadata": {
  "kernelspec": {
   "display_name": "Python 3 (ipykernel)",
   "language": "python",
   "name": "python3"
  },
  "language_info": {
   "codemirror_mode": {
    "name": "ipython",
    "version": 3
   },
   "file_extension": ".py",
   "mimetype": "text/x-python",
   "name": "python",
   "nbconvert_exporter": "python",
   "pygments_lexer": "ipython3",
   "version": "3.9.12"
  }
 },
 "nbformat": 4,
 "nbformat_minor": 5
}
